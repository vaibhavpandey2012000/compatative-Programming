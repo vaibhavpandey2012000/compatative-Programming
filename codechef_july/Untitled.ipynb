{
 "cells": [
  {
   "cell_type": "code",
   "execution_count": null,
   "metadata": {},
   "outputs": [],
   "source": [
    "tc=int(input())\n",
    "while tc:\n",
    "    k=int(input())\n",
    "    for i in range(64):\n",
    "        if i==0:\n",
    "            print('O',end=\"\")\n",
    "        elif k-i>=0:\n",
    "            print(\"X\",end=\"\")\n",
    "        else:\n",
    "            print(\".\",end=\"\")\n",
    "        if (i+1)%8==0:\n",
    "            print()\n",
    "        tc-=1"
   ]
  },
  {
   "cell_type": "code",
   "execution_count": null,
   "metadata": {},
   "outputs": [],
   "source": []
  },
  {
   "cell_type": "code",
   "execution_count": null,
   "metadata": {},
   "outputs": [],
   "source": []
  }
 ],
 "metadata": {
  "kernelspec": {
   "display_name": "Python 3",
   "language": "python",
   "name": "python3"
  },
  "language_info": {
   "codemirror_mode": {
    "name": "ipython",
    "version": 3
   },
   "file_extension": ".py",
   "mimetype": "text/x-python",
   "name": "python",
   "nbconvert_exporter": "python",
   "pygments_lexer": "ipython3",
   "version": "3.8.3"
  }
 },
 "nbformat": 4,
 "nbformat_minor": 4
}
